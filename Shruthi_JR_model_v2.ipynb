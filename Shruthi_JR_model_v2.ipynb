{
 "cells": [
  {
   "cell_type": "code",
   "execution_count": 1,
   "metadata": {
    "execution": {
     "iopub.execute_input": "2022-11-25T04:39:00.236231Z",
     "iopub.status.busy": "2022-11-25T04:39:00.235689Z",
     "iopub.status.idle": "2022-11-25T04:39:00.927295Z",
     "shell.execute_reply": "2022-11-25T04:39:00.926007Z",
     "shell.execute_reply.started": "2022-11-25T04:39:00.236187Z"
    },
    "id": "ZZ0pLsvI8uYB"
   },
   "outputs": [],
   "source": [
    "import pandas as pd\n",
    "import numpy as np\n",
    "import matplotlib.pyplot as plt\n",
    "import seaborn as sns\n"
   ]
  },
  {
   "cell_type": "code",
   "execution_count": 2,
   "metadata": {
    "execution": {
     "iopub.execute_input": "2022-11-25T04:39:00.940423Z",
     "iopub.status.busy": "2022-11-25T04:39:00.939086Z",
     "iopub.status.idle": "2022-11-25T04:39:00.980891Z",
     "shell.execute_reply": "2022-11-25T04:39:00.979771Z",
     "shell.execute_reply.started": "2022-11-25T04:39:00.940352Z"
    },
    "id": "zOmMpHd68uYC"
   },
   "outputs": [],
   "source": [
    "dataframe = pd.read_csv('https://archive.ics.uci.edu/ml/machine-learning-databases/breast-cancer-wisconsin/wdbc.data',names=[\"id\",\t\"diagnosis\",\t\"radius_mean\",\t\"texture_mean\",\t\"perimeter_mean\"\t,\"area_mean\",\"smoothness_mean\",\t\"compactness_mean\"\t,\"concavity_mean\",\t\"concave points_mean\",\t\"symmetry_mean\", \"fractal_dimension_mean\",\t\"radius_se\"\t,\"texture_se\",\"perimeter_se\"\t,\"area_se\",\t\"smoothness_se\",\"compactness_se\",\t\"concavity_se\"\t,\"concave points_se\"\t,\"symmetry_se\"\t,\"fractal_dimension_se\",\t\"radius_worst\",\t\"texture_worst\",\"perimeter_worst\",\t\"area_worst\"\t,\"smoothness_worst\",\t\"compactness_worst\",\t\"concavity_worst\",\t\"concave points_worst\"\t,\"symmetry_worst\",\t\"fractal_dimension_worst\"])"
   ]
  },
  {
   "cell_type": "code",
   "execution_count": 3,
   "metadata": {
    "colab": {
     "base_uri": "https://localhost:8080/",
     "height": 317
    },
    "execution": {
     "iopub.execute_input": "2022-11-25T04:39:00.983259Z",
     "iopub.status.busy": "2022-11-25T04:39:00.982589Z",
     "iopub.status.idle": "2022-11-25T04:39:01.032898Z",
     "shell.execute_reply": "2022-11-25T04:39:01.030978Z",
     "shell.execute_reply.started": "2022-11-25T04:39:00.983223Z"
    },
    "id": "GfjFw1cC8uYD",
    "outputId": "97aa2b85-c9cc-45d6-d24e-d46ff9b61c81"
   },
   "outputs": [
    {
     "data": {
      "text/html": [
       "<div>\n",
       "<style scoped>\n",
       "    .dataframe tbody tr th:only-of-type {\n",
       "        vertical-align: middle;\n",
       "    }\n",
       "\n",
       "    .dataframe tbody tr th {\n",
       "        vertical-align: top;\n",
       "    }\n",
       "\n",
       "    .dataframe thead th {\n",
       "        text-align: right;\n",
       "    }\n",
       "</style>\n",
       "<table border=\"1\" class=\"dataframe\">\n",
       "  <thead>\n",
       "    <tr style=\"text-align: right;\">\n",
       "      <th></th>\n",
       "      <th>id</th>\n",
       "      <th>diagnosis</th>\n",
       "      <th>radius_mean</th>\n",
       "      <th>texture_mean</th>\n",
       "      <th>perimeter_mean</th>\n",
       "      <th>area_mean</th>\n",
       "      <th>smoothness_mean</th>\n",
       "      <th>compactness_mean</th>\n",
       "      <th>concavity_mean</th>\n",
       "      <th>concave points_mean</th>\n",
       "      <th>...</th>\n",
       "      <th>radius_worst</th>\n",
       "      <th>texture_worst</th>\n",
       "      <th>perimeter_worst</th>\n",
       "      <th>area_worst</th>\n",
       "      <th>smoothness_worst</th>\n",
       "      <th>compactness_worst</th>\n",
       "      <th>concavity_worst</th>\n",
       "      <th>concave points_worst</th>\n",
       "      <th>symmetry_worst</th>\n",
       "      <th>fractal_dimension_worst</th>\n",
       "    </tr>\n",
       "  </thead>\n",
       "  <tbody>\n",
       "    <tr>\n",
       "      <th>0</th>\n",
       "      <td>842302</td>\n",
       "      <td>M</td>\n",
       "      <td>17.99</td>\n",
       "      <td>10.38</td>\n",
       "      <td>122.80</td>\n",
       "      <td>1001.0</td>\n",
       "      <td>0.11840</td>\n",
       "      <td>0.27760</td>\n",
       "      <td>0.3001</td>\n",
       "      <td>0.14710</td>\n",
       "      <td>...</td>\n",
       "      <td>25.38</td>\n",
       "      <td>17.33</td>\n",
       "      <td>184.60</td>\n",
       "      <td>2019.0</td>\n",
       "      <td>0.1622</td>\n",
       "      <td>0.6656</td>\n",
       "      <td>0.7119</td>\n",
       "      <td>0.2654</td>\n",
       "      <td>0.4601</td>\n",
       "      <td>0.11890</td>\n",
       "    </tr>\n",
       "    <tr>\n",
       "      <th>1</th>\n",
       "      <td>842517</td>\n",
       "      <td>M</td>\n",
       "      <td>20.57</td>\n",
       "      <td>17.77</td>\n",
       "      <td>132.90</td>\n",
       "      <td>1326.0</td>\n",
       "      <td>0.08474</td>\n",
       "      <td>0.07864</td>\n",
       "      <td>0.0869</td>\n",
       "      <td>0.07017</td>\n",
       "      <td>...</td>\n",
       "      <td>24.99</td>\n",
       "      <td>23.41</td>\n",
       "      <td>158.80</td>\n",
       "      <td>1956.0</td>\n",
       "      <td>0.1238</td>\n",
       "      <td>0.1866</td>\n",
       "      <td>0.2416</td>\n",
       "      <td>0.1860</td>\n",
       "      <td>0.2750</td>\n",
       "      <td>0.08902</td>\n",
       "    </tr>\n",
       "    <tr>\n",
       "      <th>2</th>\n",
       "      <td>84300903</td>\n",
       "      <td>M</td>\n",
       "      <td>19.69</td>\n",
       "      <td>21.25</td>\n",
       "      <td>130.00</td>\n",
       "      <td>1203.0</td>\n",
       "      <td>0.10960</td>\n",
       "      <td>0.15990</td>\n",
       "      <td>0.1974</td>\n",
       "      <td>0.12790</td>\n",
       "      <td>...</td>\n",
       "      <td>23.57</td>\n",
       "      <td>25.53</td>\n",
       "      <td>152.50</td>\n",
       "      <td>1709.0</td>\n",
       "      <td>0.1444</td>\n",
       "      <td>0.4245</td>\n",
       "      <td>0.4504</td>\n",
       "      <td>0.2430</td>\n",
       "      <td>0.3613</td>\n",
       "      <td>0.08758</td>\n",
       "    </tr>\n",
       "    <tr>\n",
       "      <th>3</th>\n",
       "      <td>84348301</td>\n",
       "      <td>M</td>\n",
       "      <td>11.42</td>\n",
       "      <td>20.38</td>\n",
       "      <td>77.58</td>\n",
       "      <td>386.1</td>\n",
       "      <td>0.14250</td>\n",
       "      <td>0.28390</td>\n",
       "      <td>0.2414</td>\n",
       "      <td>0.10520</td>\n",
       "      <td>...</td>\n",
       "      <td>14.91</td>\n",
       "      <td>26.50</td>\n",
       "      <td>98.87</td>\n",
       "      <td>567.7</td>\n",
       "      <td>0.2098</td>\n",
       "      <td>0.8663</td>\n",
       "      <td>0.6869</td>\n",
       "      <td>0.2575</td>\n",
       "      <td>0.6638</td>\n",
       "      <td>0.17300</td>\n",
       "    </tr>\n",
       "    <tr>\n",
       "      <th>4</th>\n",
       "      <td>84358402</td>\n",
       "      <td>M</td>\n",
       "      <td>20.29</td>\n",
       "      <td>14.34</td>\n",
       "      <td>135.10</td>\n",
       "      <td>1297.0</td>\n",
       "      <td>0.10030</td>\n",
       "      <td>0.13280</td>\n",
       "      <td>0.1980</td>\n",
       "      <td>0.10430</td>\n",
       "      <td>...</td>\n",
       "      <td>22.54</td>\n",
       "      <td>16.67</td>\n",
       "      <td>152.20</td>\n",
       "      <td>1575.0</td>\n",
       "      <td>0.1374</td>\n",
       "      <td>0.2050</td>\n",
       "      <td>0.4000</td>\n",
       "      <td>0.1625</td>\n",
       "      <td>0.2364</td>\n",
       "      <td>0.07678</td>\n",
       "    </tr>\n",
       "  </tbody>\n",
       "</table>\n",
       "<p>5 rows × 32 columns</p>\n",
       "</div>"
      ],
      "text/plain": [
       "         id diagnosis  radius_mean  texture_mean  perimeter_mean  area_mean  \\\n",
       "0    842302         M        17.99         10.38          122.80     1001.0   \n",
       "1    842517         M        20.57         17.77          132.90     1326.0   \n",
       "2  84300903         M        19.69         21.25          130.00     1203.0   \n",
       "3  84348301         M        11.42         20.38           77.58      386.1   \n",
       "4  84358402         M        20.29         14.34          135.10     1297.0   \n",
       "\n",
       "   smoothness_mean  compactness_mean  concavity_mean  concave points_mean  \\\n",
       "0          0.11840           0.27760          0.3001              0.14710   \n",
       "1          0.08474           0.07864          0.0869              0.07017   \n",
       "2          0.10960           0.15990          0.1974              0.12790   \n",
       "3          0.14250           0.28390          0.2414              0.10520   \n",
       "4          0.10030           0.13280          0.1980              0.10430   \n",
       "\n",
       "   ...  radius_worst  texture_worst  perimeter_worst  area_worst  \\\n",
       "0  ...         25.38          17.33           184.60      2019.0   \n",
       "1  ...         24.99          23.41           158.80      1956.0   \n",
       "2  ...         23.57          25.53           152.50      1709.0   \n",
       "3  ...         14.91          26.50            98.87       567.7   \n",
       "4  ...         22.54          16.67           152.20      1575.0   \n",
       "\n",
       "   smoothness_worst  compactness_worst  concavity_worst  concave points_worst  \\\n",
       "0            0.1622             0.6656           0.7119                0.2654   \n",
       "1            0.1238             0.1866           0.2416                0.1860   \n",
       "2            0.1444             0.4245           0.4504                0.2430   \n",
       "3            0.2098             0.8663           0.6869                0.2575   \n",
       "4            0.1374             0.2050           0.4000                0.1625   \n",
       "\n",
       "   symmetry_worst  fractal_dimension_worst  \n",
       "0          0.4601                  0.11890  \n",
       "1          0.2750                  0.08902  \n",
       "2          0.3613                  0.08758  \n",
       "3          0.6638                  0.17300  \n",
       "4          0.2364                  0.07678  \n",
       "\n",
       "[5 rows x 32 columns]"
      ]
     },
     "execution_count": 3,
     "metadata": {},
     "output_type": "execute_result"
    }
   ],
   "source": [
    "dataframe.head(5)"
   ]
  },
  {
   "cell_type": "code",
   "execution_count": 4,
   "metadata": {
    "colab": {
     "base_uri": "https://localhost:8080/"
    },
    "execution": {
     "iopub.execute_input": "2022-11-25T04:39:01.039151Z",
     "iopub.status.busy": "2022-11-25T04:39:01.038709Z",
     "iopub.status.idle": "2022-11-25T04:39:01.048841Z",
     "shell.execute_reply": "2022-11-25T04:39:01.047176Z",
     "shell.execute_reply.started": "2022-11-25T04:39:01.039115Z"
    },
    "id": "hD0taJmr8uYD",
    "outputId": "ccc72204-3caa-4c55-8e7f-6efdb5a45b44"
   },
   "outputs": [
    {
     "data": {
      "text/plain": [
       "Index(['id', 'diagnosis', 'radius_mean', 'texture_mean', 'perimeter_mean',\n",
       "       'area_mean', 'smoothness_mean', 'compactness_mean', 'concavity_mean',\n",
       "       'concave points_mean', 'symmetry_mean', 'fractal_dimension_mean',\n",
       "       'radius_se', 'texture_se', 'perimeter_se', 'area_se', 'smoothness_se',\n",
       "       'compactness_se', 'concavity_se', 'concave points_se', 'symmetry_se',\n",
       "       'fractal_dimension_se', 'radius_worst', 'texture_worst',\n",
       "       'perimeter_worst', 'area_worst', 'smoothness_worst',\n",
       "       'compactness_worst', 'concavity_worst', 'concave points_worst',\n",
       "       'symmetry_worst', 'fractal_dimension_worst'],\n",
       "      dtype='object')"
      ]
     },
     "execution_count": 4,
     "metadata": {},
     "output_type": "execute_result"
    }
   ],
   "source": [
    "dataframe.columns"
   ]
  },
  {
   "cell_type": "code",
   "execution_count": 5,
   "metadata": {
    "colab": {
     "base_uri": "https://localhost:8080/"
    },
    "execution": {
     "iopub.execute_input": "2022-11-25T04:39:01.051519Z",
     "iopub.status.busy": "2022-11-25T04:39:01.05078Z",
     "iopub.status.idle": "2022-11-25T04:39:01.066254Z",
     "shell.execute_reply": "2022-11-25T04:39:01.06487Z",
     "shell.execute_reply.started": "2022-11-25T04:39:01.051456Z"
    },
    "id": "ZcpRkqIJ8uYD",
    "outputId": "1662f99a-1f0f-4e3a-dbbd-e7c68fea32e7"
   },
   "outputs": [
    {
     "data": {
      "text/plain": [
       "id                         0\n",
       "diagnosis                  0\n",
       "radius_mean                0\n",
       "texture_mean               0\n",
       "perimeter_mean             0\n",
       "area_mean                  0\n",
       "smoothness_mean            0\n",
       "compactness_mean           0\n",
       "concavity_mean             0\n",
       "concave points_mean        0\n",
       "symmetry_mean              0\n",
       "fractal_dimension_mean     0\n",
       "radius_se                  0\n",
       "texture_se                 0\n",
       "perimeter_se               0\n",
       "area_se                    0\n",
       "smoothness_se              0\n",
       "compactness_se             0\n",
       "concavity_se               0\n",
       "concave points_se          0\n",
       "symmetry_se                0\n",
       "fractal_dimension_se       0\n",
       "radius_worst               0\n",
       "texture_worst              0\n",
       "perimeter_worst            0\n",
       "area_worst                 0\n",
       "smoothness_worst           0\n",
       "compactness_worst          0\n",
       "concavity_worst            0\n",
       "concave points_worst       0\n",
       "symmetry_worst             0\n",
       "fractal_dimension_worst    0\n",
       "dtype: int64"
      ]
     },
     "execution_count": 5,
     "metadata": {},
     "output_type": "execute_result"
    }
   ],
   "source": [
    "dataframe.isnull().sum()"
   ]
  },
  {
   "cell_type": "code",
   "execution_count": 6,
   "metadata": {
    "colab": {
     "base_uri": "https://localhost:8080/"
    },
    "execution": {
     "iopub.execute_input": "2022-11-25T04:39:01.069836Z",
     "iopub.status.busy": "2022-11-25T04:39:01.068961Z",
     "iopub.status.idle": "2022-11-25T04:39:01.088347Z",
     "shell.execute_reply": "2022-11-25T04:39:01.086978Z",
     "shell.execute_reply.started": "2022-11-25T04:39:01.069758Z"
    },
    "id": "_JhDqfQE8uYE",
    "outputId": "3707c5b6-23a0-47ee-c460-4510d3ed9bf6"
   },
   "outputs": [
    {
     "data": {
      "text/plain": [
       "B    357\n",
       "M    212\n",
       "Name: diagnosis, dtype: int64"
      ]
     },
     "execution_count": 6,
     "metadata": {},
     "output_type": "execute_result"
    }
   ],
   "source": [
    "dataframe['diagnosis'].value_counts()"
   ]
  },
  {
   "cell_type": "code",
   "execution_count": 7,
   "metadata": {
    "execution": {
     "iopub.execute_input": "2022-11-25T04:39:01.090417Z",
     "iopub.status.busy": "2022-11-25T04:39:01.09007Z",
     "iopub.status.idle": "2022-11-25T04:39:01.099994Z",
     "shell.execute_reply": "2022-11-25T04:39:01.098597Z",
     "shell.execute_reply.started": "2022-11-25T04:39:01.090386Z"
    },
    "id": "22lmnpd28uYE"
   },
   "outputs": [],
   "source": [
    "target = dataframe['diagnosis']"
   ]
  },
  {
   "cell_type": "code",
   "execution_count": 8,
   "metadata": {
    "execution": {
     "iopub.execute_input": "2022-11-25T04:39:01.103614Z",
     "iopub.status.busy": "2022-11-25T04:39:01.102702Z",
     "iopub.status.idle": "2022-11-25T04:39:01.117655Z",
     "shell.execute_reply": "2022-11-25T04:39:01.116364Z",
     "shell.execute_reply.started": "2022-11-25T04:39:01.103568Z"
    },
    "id": "kaLIOHe78uYE"
   },
   "outputs": [],
   "source": [
    "dataframe.drop(['id','diagnosis'],axis=1, inplace=True)"
   ]
  },
  {
   "cell_type": "markdown",
   "metadata": {
    "id": "qFYJZ2Ld8uYF"
   },
   "source": [
    "### Model accuracy prediction using Random Forest"
   ]
  },
  {
   "cell_type": "code",
   "execution_count": 9,
   "metadata": {
    "execution": {
     "iopub.execute_input": "2022-11-25T04:39:01.119995Z",
     "iopub.status.busy": "2022-11-25T04:39:01.119513Z",
     "iopub.status.idle": "2022-11-25T04:39:01.363918Z",
     "shell.execute_reply": "2022-11-25T04:39:01.362016Z",
     "shell.execute_reply.started": "2022-11-25T04:39:01.11996Z"
    },
    "id": "-N_mmX468uYF"
   },
   "outputs": [],
   "source": [
    "from sklearn.model_selection import train_test_split,cross_val_score,KFold\n",
    "from sklearn.ensemble import RandomForestClassifier\n",
    "from sklearn.preprocessing import StandardScaler"
   ]
  },
  {
   "cell_type": "code",
   "execution_count": 10,
   "metadata": {
    "execution": {
     "iopub.execute_input": "2022-11-25T04:39:01.367245Z",
     "iopub.status.busy": "2022-11-25T04:39:01.366711Z",
     "iopub.status.idle": "2022-11-25T04:39:01.373458Z",
     "shell.execute_reply": "2022-11-25T04:39:01.371974Z",
     "shell.execute_reply.started": "2022-11-25T04:39:01.367196Z"
    },
    "id": "KI2TR-DR8uYG"
   },
   "outputs": [],
   "source": [
    "X=dataframe\n",
    "y=target"
   ]
  },
  {
   "cell_type": "code",
   "execution_count": 11,
   "metadata": {
    "execution": {
     "iopub.execute_input": "2022-11-25T04:39:01.867251Z",
     "iopub.status.busy": "2022-11-25T04:39:01.865592Z",
     "iopub.status.idle": "2022-11-25T04:39:01.878126Z",
     "shell.execute_reply": "2022-11-25T04:39:01.875819Z",
     "shell.execute_reply.started": "2022-11-25T04:39:01.867172Z"
    },
    "id": "FIJhVmHo8uYH"
   },
   "outputs": [],
   "source": [
    "from sklearn.preprocessing import MinMaxScaler\n",
    "from sklearn.metrics import confusion_matrix,accuracy_score"
   ]
  },
  {
   "cell_type": "code",
   "execution_count": 12,
   "metadata": {
    "execution": {
     "iopub.execute_input": "2022-11-25T04:39:01.8827Z",
     "iopub.status.busy": "2022-11-25T04:39:01.881323Z",
     "iopub.status.idle": "2022-11-25T04:39:01.901746Z",
     "shell.execute_reply": "2022-11-25T04:39:01.899734Z",
     "shell.execute_reply.started": "2022-11-25T04:39:01.882623Z"
    },
    "id": "6mAERu-Q8uYH"
   },
   "outputs": [],
   "source": [
    "X_train,X_test,y_train,y_test = train_test_split(X,y,test_size=0.3,random_state=0)"
   ]
  },
  {
   "cell_type": "code",
   "execution_count": 13,
   "metadata": {
    "execution": {
     "iopub.execute_input": "2022-11-25T04:39:01.910369Z",
     "iopub.status.busy": "2022-11-25T04:39:01.908398Z",
     "iopub.status.idle": "2022-11-25T04:39:01.93861Z",
     "shell.execute_reply": "2022-11-25T04:39:01.936856Z",
     "shell.execute_reply.started": "2022-11-25T04:39:01.910279Z"
    },
    "id": "eyo2YHdY8uYH"
   },
   "outputs": [],
   "source": [
    "scaler = MinMaxScaler()\n",
    "scaler.fit(X_train)\n",
    "X_test=scaler.transform(X_test)\n",
    "X_train=scaler.transform(X_train)"
   ]
  },
  {
   "cell_type": "code",
   "execution_count": 14,
   "metadata": {
    "execution": {
     "iopub.execute_input": "2022-11-25T04:39:01.942641Z",
     "iopub.status.busy": "2022-11-25T04:39:01.941358Z",
     "iopub.status.idle": "2022-11-25T04:39:01.981418Z",
     "shell.execute_reply": "2022-11-25T04:39:01.979644Z",
     "shell.execute_reply.started": "2022-11-25T04:39:01.942538Z"
    },
    "id": "HimKza9c8uYI"
   },
   "outputs": [],
   "source": [
    "rfc=RandomForestClassifier().fit(X_train, y_train)"
   ]
  },
  {
   "cell_type": "code",
   "execution_count": 15,
   "metadata": {
    "execution": {
     "iopub.execute_input": "2022-11-25T04:39:01.985378Z",
     "iopub.status.busy": "2022-11-25T04:39:01.984238Z",
     "iopub.status.idle": "2022-11-25T04:39:01.994396Z",
     "shell.execute_reply": "2022-11-25T04:39:01.992677Z",
     "shell.execute_reply.started": "2022-11-25T04:39:01.985308Z"
    },
    "id": "qM7KCz1L8uYI"
   },
   "outputs": [],
   "source": [
    "y_pred=rfc.predict(X_test)"
   ]
  },
  {
   "cell_type": "code",
   "execution_count": 16,
   "metadata": {
    "colab": {
     "base_uri": "https://localhost:8080/"
    },
    "execution": {
     "iopub.execute_input": "2022-11-25T04:39:01.999192Z",
     "iopub.status.busy": "2022-11-25T04:39:01.998003Z",
     "iopub.status.idle": "2022-11-25T04:39:02.02203Z",
     "shell.execute_reply": "2022-11-25T04:39:02.020348Z",
     "shell.execute_reply.started": "2022-11-25T04:39:01.99912Z"
    },
    "id": "syaO2fRR8uYI",
    "outputId": "8de341f2-263c-46cb-da4b-acd99f9339a6"
   },
   "outputs": [
    {
     "data": {
      "text/plain": [
       "array([[104,   4],\n",
       "       [  2,  61]], dtype=int64)"
      ]
     },
     "execution_count": 16,
     "metadata": {},
     "output_type": "execute_result"
    }
   ],
   "source": [
    "confusion_matrix(y_test,y_pred)"
   ]
  },
  {
   "cell_type": "code",
   "execution_count": 17,
   "metadata": {
    "colab": {
     "base_uri": "https://localhost:8080/"
    },
    "execution": {
     "iopub.execute_input": "2022-11-25T04:39:02.02625Z",
     "iopub.status.busy": "2022-11-25T04:39:02.02502Z",
     "iopub.status.idle": "2022-11-25T04:39:02.041107Z",
     "shell.execute_reply": "2022-11-25T04:39:02.039463Z",
     "shell.execute_reply.started": "2022-11-25T04:39:02.026178Z"
    },
    "id": "yePDaxGF8uYI",
    "outputId": "3a91bcca-d9d7-4134-af36-969534926457"
   },
   "outputs": [
    {
     "data": {
      "text/plain": [
       "0.9649122807017544"
      ]
     },
     "execution_count": 17,
     "metadata": {},
     "output_type": "execute_result"
    }
   ],
   "source": [
    "accuracy_score(y_test,y_pred)"
   ]
  }
 ],
 "metadata": {
  "colab": {
   "provenance": []
  },
  "kernelspec": {
   "display_name": "Python 3 (ipykernel)",
   "language": "python",
   "name": "python3"
  },
  "language_info": {
   "codemirror_mode": {
    "name": "ipython",
    "version": 3
   },
   "file_extension": ".py",
   "mimetype": "text/x-python",
   "name": "python",
   "nbconvert_exporter": "python",
   "pygments_lexer": "ipython3",
   "version": "3.9.13"
  }
 },
 "nbformat": 4,
 "nbformat_minor": 1
}
